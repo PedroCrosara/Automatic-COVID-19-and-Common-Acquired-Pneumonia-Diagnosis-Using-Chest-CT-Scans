{
 "cells": [
  {
   "cell_type": "code",
   "execution_count": null,
   "id": "6587bbe0",
   "metadata": {},
   "outputs": [],
   "source": [
    "import matplotlib.pyplot as plt\n",
    "import numpy as np\n",
    "import json"
   ]
  },
  {
   "cell_type": "code",
   "execution_count": null,
   "id": "878bc00e",
   "metadata": {},
   "outputs": [],
   "source": [
    "resnet_fpn = json.load(open(\"resnet50-FPN-metrics.txt\"))\n",
    "densenet_fpn = json.load(open(\"densenet201-FPN-metrics.txt\"))\n",
    "mobilenet_fpn = json.load(open(\"mobilenet_v2-FPN-metrics.txt\"))\n",
    "resnext_fpn = json.load(open('se_resnext101_32x4d-FPN-metrics.txt'))\n",
    "\n",
    "resnet_unet = json.load(open(\"resnet50-Unet-metrics.txt\"))\n",
    "densenet_unet = json.load(open(\"densenet201-Unet-metrics.txt\"))\n",
    "mobilenet_unet = json.load(open(\"mobilenet_v2-Unet-metrics.txt\"))\n",
    "resnext_unet = json.load(open('se_resnext101_32x4d-Unet-metrics.txt'))\n",
    "\n",
    "mobilenet_unetpp = json.load(open('mobilenet_v2-UnetPlusPlus-metrics.txt'))\n",
    "resnet_unetpp = json.load(open('resnet50-UnetPlusPlus-metrics.txt'))\n",
    "densenet_unetpp = json.load(open('densenet201-UnetPlusPlus-metrics.txt'))\n",
    "resnext_unetpp = json.load(open('se_resnext101_32x4d-UnetPlusPlus-metrics.txt'))\n",
    "\n",
    "mobilenet_manet = json.load(open('mobilenet_v2-MAnet-metrics.txt'))\n",
    "resnet_manet = json.load(open('resnet50-MAnet-metrics.txt'))\n",
    "densenet_manet = json.load(open('densenet201-MAnet-metrics.txt'))\n",
    "resnext_manet = json.load(open('se_resnext101_32x4d-MAnet-metrics.txt'))"
   ]
  },
  {
   "cell_type": "code",
   "execution_count": null,
   "id": "c965118f",
   "metadata": {},
   "outputs": [],
   "source": [
    "arch_dict = {'MobilenetV2 FPN':mobilenet_fpn, 'Resnet50 FPN':resnet_fpn, 'Densenet201 FPN':densenet_fpn, \n",
    "             'Resnext101 FPN': resnext_fpn, 'MobilenetV2 Unet':mobilenet_unet, 'Resnet50 Unet':resnet_unet, \n",
    "             'Densenet201 Unet':densenet_unet, 'Resnext101 Unet': resnext_unet, 'MobilenetV2 Unet++': mobilenet_unetpp,\n",
    "             'Resnet50 Unet++': resnet_unetpp, 'Densenet201 Unet++': densenet_unetpp, 'Resnext101 Unet++': resnext_unetpp,\n",
    "             'MobilenetV2 MAnet': mobilenet_manet, 'Resnet50 MAnet': resnet_manet, 'Densenet201 MAnet': densenet_manet,\n",
    "             'Resnext101 MAnet': resnext_manet}"
   ]
  },
  {
   "attachments": {},
   "cell_type": "markdown",
   "id": "7179190d",
   "metadata": {},
   "source": [
    "## Boxplot"
   ]
  },
  {
   "cell_type": "code",
   "execution_count": null,
   "id": "f7801e37",
   "metadata": {
    "scrolled": false
   },
   "outputs": [],
   "source": [
    "plt.rcParams[\"figure.figsize\"] = (15,5)\n",
    "\n",
    "#fig = plt.figure(figsize =(15, 13))\n",
    "\n",
    "metrics = ['Accuracy', 'F1-Score', 'Dataset IoU', 'Per Image IoU', 'Hausdorff']\n",
    "\n",
    "for metric in metrics:\n",
    "    \n",
    "    metric_list = []\n",
    "    for arch in arch_dict:\n",
    "        metric_list.append(arch_dict[arch][metric])\n",
    "    \n",
    "    fig, ax = plt.subplots()\n",
    "    ax.boxplot(metric_list)\n",
    "    ax.set_xticklabels(list(arch_dict.keys()), rotation=45, ha='right')\n",
    "    #plt.ylim(0.6, 1)\n",
    "    plt.title(metric)\n",
    "    plt.show()"
   ]
  },
  {
   "attachments": {},
   "cell_type": "markdown",
   "id": "c9469821",
   "metadata": {},
   "source": [
    "## Shapiro"
   ]
  },
  {
   "cell_type": "code",
   "execution_count": null,
   "id": "2e28a99f",
   "metadata": {},
   "outputs": [],
   "source": [
    "from scipy.stats import shapiro\n",
    "\n",
    "print('-------------------------------------------------------------')\n",
    "for metric in metrics:\n",
    "    for arch in arch_dict:\n",
    "        #print(arch_dict[arch][metric])\n",
    "        result = shapiro(arch_dict[arch][metric])\n",
    "\n",
    "        print(f'shapiro test for {arch} and {metric}')\n",
    "        print(result)\n",
    "\n",
    "        if result[1] < 0.05:\n",
    "            print(\"rejected null hypothesis\")\n",
    "        else:\n",
    "            print(\"did not rejected null hypothesis\")\n",
    "\n",
    "        print('------------------------------------------------------------- \\n')"
   ]
  },
  {
   "attachments": {},
   "cell_type": "markdown",
   "id": "7ff99dbe",
   "metadata": {},
   "source": [
    "## Mann-Whitney"
   ]
  },
  {
   "cell_type": "code",
   "execution_count": null,
   "id": "ca40a854",
   "metadata": {},
   "outputs": [],
   "source": [
    "from scipy.stats import mannwhitneyu\n",
    "import scipy.stats as stats\n",
    "import itertools\n",
    "\n",
    "# models = {'resnet_fpn':resnet_fpn, 'densenet_fpn':densenet_fpn, 'mobilenet_fpn':mobilenet_fpn,\n",
    "#           'resnet_unet':resnet_unet, 'densenet_unet':densenet_unet, 'mobilenet_unet':mobilenet_unet}\n",
    "# models2 = list(itertools.product(models, repeat=2))\n",
    "models2 = list(itertools.product(arch_dict, repeat=2))\n",
    "metric = metrics[3]\n",
    "\n",
    "for metric in metrics:\n",
    "    #change to pandas\n",
    "    p_vals = []\n",
    "    for comb in models2:\n",
    "        #print(comb[0], comb[1])\n",
    "        t_stat, p = mannwhitneyu(arch_dict[comb[0]][metric], arch_dict[comb[1]][metric])\n",
    "        p_vals.append(p)\n",
    "    mat_format = int(len(p_vals)/len(arch_dict))\n",
    "    p_vals = np.array(p_vals).reshape((mat_format,mat_format))\n",
    "\n",
    "    import seaborn as sns\n",
    "\n",
    "    plt.rcParams[\"figure.figsize\"] = (12,12)\n",
    "\n",
    "    mask = np.triu(np.ones_like(p_vals, dtype=bool))\n",
    "    axis_labels = ['Resnet50+FPN', 'Densenet201+FPN', 'Mobilenetv2+FPN',\n",
    "                            'Resnet50 + Unet', 'Densenet201 + Unet', 'Mobilenetv2+Unet']\n",
    "    teste = (p_vals > 0.05)*1\n",
    "    sns.set_theme(font_scale=1.2, style=\"white\")\n",
    "    sns.heatmap(teste, cmap=sns.cubehelix_palette(as_cmap=True), mask=mask,annot=False, \n",
    "                xticklabels=list(arch_dict.keys()), yticklabels=list(arch_dict.keys()), \n",
    "                fmt='.1e', cbar=False)\n",
    "    plt.title(metric, fontsize =20)\n",
    "    plt.show()"
   ]
  },
  {
   "attachments": {},
   "cell_type": "markdown",
   "id": "97797306",
   "metadata": {},
   "source": [
    "## Nemenyi test"
   ]
  },
  {
   "cell_type": "code",
   "execution_count": null,
   "id": "cc9dce4f",
   "metadata": {},
   "outputs": [],
   "source": [
    "import numpy as np\n",
    "import pandas as pd\n",
    "import matplotlib.pyplot as plt\n",
    "from autorank import autorank, plot_stats, create_report, latex_table"
   ]
  },
  {
   "cell_type": "code",
   "execution_count": null,
   "id": "aa07cbdc",
   "metadata": {},
   "outputs": [],
   "source": [
    "\n",
    "for arch in arch_dict:\n",
    "    shapiro_test = stats.shapiro(arch_dict[arch]['F1-Score'])\n",
    "    print(shapiro_test)\n",
    "    plt.plot(arch_dict[arch]['F1-Score'])\n",
    "    plt.show()"
   ]
  },
  {
   "cell_type": "code",
   "execution_count": null,
   "id": "604f6e41",
   "metadata": {
    "scrolled": true
   },
   "outputs": [],
   "source": [
    "for metric in metrics:\n",
    "    df = pd.DataFrame()\n",
    "    for arch in arch_dict:\n",
    "        df[arch] = arch_dict[arch][metric]\n",
    "    \n",
    "    result = autorank(df, alpha=0.05, verbose=True, approach='frequentist')\n",
    "    create_report(result)\n",
    "    plot_stats(result)\n",
    "    plt.title(metric, fontsize =20)\n",
    "    plt.show()"
   ]
  },
  {
   "cell_type": "code",
   "execution_count": null,
   "id": "33dd6760",
   "metadata": {},
   "outputs": [],
   "source": [
    "import itertools\n",
    "\n",
    "\n",
    "#F1\n",
    "# mr_dict = {\n",
    "# 'MobilenetV2_MAnet_MR':15.300,\n",
    "# 'Resnet50_MAnet_MR':13.100,\n",
    "# 'Resnext101_FPN_MR':12.700,\n",
    "# 'MobilenetV2_Unet_MR':12.100,\n",
    "# 'MobilenetV2_FPN_MR':11.800,\n",
    "# 'Resnext101_Unet_MR':10.500,\n",
    "# 'Resnext101_MAnet_MR':10.000,\n",
    "# 'Densenet201_FPN_MR':9.200,\n",
    "# 'Resnext101_Unet++_MR':8.100,\n",
    "# 'Densenet201_MAnet_MR':7.500,\n",
    "# 'Resnet50_FPN_MR':7.000,\n",
    "# 'Resnet50_Unet++_MR':4.900,\n",
    "# 'MobilenetV2_Unet++_MR':4.400,\n",
    "# 'Resnet50_Unet_MR':4.100,\n",
    "# 'Densenet201_Unet_MR':3.000,\n",
    "# 'Densenet201_Unet++_MR':2.300\n",
    "#    }\n",
    "\n",
    "mr_dict = {\n",
    "'Resnext101_Unet++_MR':14.800,\n",
    "'MobilenetV2_FPN_MR':14.600,\n",
    "'Resnext101_MAnet_MR':14.400,\n",
    "'Densenet201_FPN_MR':14.200,\n",
    "'Densenet201_Unet++_MR':11.700,\n",
    "'Resnet50_Unet++_MR':10.700,\n",
    "'Densenet201_MAnet_MR':9.900,\n",
    "'MobilenetV2 MAnet_MR':8.700,\n",
    "'Densenet201_Unet_MR':7.100,\n",
    "'MobilenetV2_Unet++_MR':6.200,\n",
    "'Resnet50_FPN_MR':5.700,\n",
    "'Resnet50_UnetMR':4.600,\n",
    "'MobilenetV2_Unet_MR':4.300,\n",
    "'Resnet50_MAnet_MR':4.100,\n",
    "'Resnext101_FPN_MR':2.600,\n",
    "'Resnext101_Unet_MR':2.400\n",
    "    }\n",
    "    \n",
    "CD = 7.295\n",
    "\n",
    "prev = None\n",
    "i = 0\n",
    "aux2 = list(itertools.permutations(mr_dict, r=2))\n",
    "\n",
    "for comb in aux2:\n",
    "    if abs(mr_dict[comb[1]]-mr_dict[comb[0]]) > CD:\n",
    "        print(comb, abs(mr_dict[comb[1]]-mr_dict[comb[0]]))\n",
    "    \n",
    "    if comb[0] == prev and abs(mr_dict[comb[1]]-mr_dict[comb[0]]) > CD:\n",
    "        i += 1\n",
    "    elif comb[0] != prev:\n",
    "        print(i)\n",
    "        prev = comb[0]\n",
    "        i = 0"
   ]
  },
  {
   "cell_type": "code",
   "execution_count": null,
   "id": "0cfc522e",
   "metadata": {},
   "outputs": [],
   "source": []
  },
  {
   "cell_type": "code",
   "execution_count": null,
   "id": "8c89818d",
   "metadata": {
    "scrolled": false
   },
   "outputs": [],
   "source": [
    "for metric in metrics:\n",
    "    df = pd.DataFrame()\n",
    "    for arch in arch_dict:\n",
    "        df[arch] = arch_dict[arch][metric]\n",
    "    \n",
    "    result = autorank(df, alpha=0.05, verbose=True, approach='frequentist')\n",
    "    plot_stats(result)\n",
    "    plt.title(metric, fontsize =20)\n",
    "    plt.show()"
   ]
  },
  {
   "attachments": {},
   "cell_type": "markdown",
   "id": "7e6e05ea",
   "metadata": {},
   "source": [
    "## Training x Testing time"
   ]
  },
  {
   "cell_type": "code",
   "execution_count": null,
   "id": "177e5ca1",
   "metadata": {},
   "outputs": [],
   "source": [
    "plt.rcParams[\"figure.figsize\"] = (10,10)\n",
    "\n",
    "color_list = ['#E0BBE4','#957DAD', '#FFE096', '#BED8D7', '#FF9356', '#7E74D4',\n",
    "              '#9EE362', '#C33C23', '#FF6961', '#FFB447', '#95C7F1', '#E68AA9',\n",
    "              '#658C72', '#2C1608', '#9B01F2', '#A6CE39']\n",
    "\n",
    "for arch,color in zip(arch_dict,color_list):\n",
    "    plt.scatter(arch_dict[arch]['Training Time'], arch_dict[arch]['Testing Time'], color=color)\n",
    "plt.xlabel('Training Time (s)')\n",
    "plt.ylabel('Testing Time (s)')\n",
    "plt.legend(list(arch_dict.keys()), loc =\"lower right\")\n",
    "plt.title('Training x Testing Time', fontsize=20)\n",
    "plt.show()"
   ]
  },
  {
   "cell_type": "code",
   "execution_count": null,
   "id": "9a99653e",
   "metadata": {},
   "outputs": [],
   "source": [
    "for arch in arch_dict:\n",
    "    print(f\"{arch} & {round(np.mean(arch_dict[arch]['Accuracy'])*100,2)} \\u00B1 {round(np.std(arch_dict[arch]['Accuracy'])*100,2)} & {round(np.mean(arch_dict[arch]['F1-Score'])*100,2)} \\u00B1 {round(np.std(arch_dict[arch]['F1-Score'])*100,2)} & {round(np.mean(arch_dict[arch]['Hausdorff']),2)} \\u00B1 {round(np.std(arch_dict[arch]['Hausdorff']),2)} \\\\\\\\\")         "
   ]
  },
  {
   "cell_type": "code",
   "execution_count": null,
   "id": "e8ca4243",
   "metadata": {},
   "outputs": [],
   "source": []
  }
 ],
 "metadata": {
  "kernelspec": {
   "display_name": "Python 3 (ipykernel)",
   "language": "python",
   "name": "python3"
  },
  "language_info": {
   "codemirror_mode": {
    "name": "ipython",
    "version": 3
   },
   "file_extension": ".py",
   "mimetype": "text/x-python",
   "name": "python",
   "nbconvert_exporter": "python",
   "pygments_lexer": "ipython3",
   "version": "3.8.13"
  }
 },
 "nbformat": 4,
 "nbformat_minor": 5
}
